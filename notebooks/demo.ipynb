{
 "cells": [
  {
   "cell_type": "code",
   "execution_count": null,
   "id": "e5b27cbb-c23c-41f1-929c-7d4308d47c8f",
   "metadata": {},
   "outputs": [],
   "source": [
    "from spring import frutcherman_reingold\n",
    "import cooling_schedules\n",
    "from jax import numpy as jnp\n",
    "from jax import random\n",
    "from matplotlib import pyplot as plt\n",
    "from IPython.display import clear_output\n",
    "import time\n",
    "from functools import partial\n",
    "from matplotlib.collections import LineCollection\n",
    "import utils\n",
    "import samples"
   ]
  },
  {
   "cell_type": "code",
   "execution_count": null,
   "id": "bd7b84f8-79fe-40a9-bbe4-5a349123e126",
   "metadata": {},
   "outputs": [],
   "source": [
    "problem_index = 0"
   ]
  },
  {
   "cell_type": "code",
   "execution_count": null,
   "id": "9c4ab0a9-f531-45d4-8de4-80cb6f842750",
   "metadata": {},
   "outputs": [],
   "source": [
    "problems = [\n",
    "    [samples.triangles, samples.triangles_colors],\n",
    "    [samples.tri_quad_line, samples.tri_quad_line_colors],\n",
    "    [samples.k_5, samples.k_5_colors],\n",
    "    [samples.k_3_3, samples.k_3_3_colors],\n",
    "    [samples.rings, samples.rings_colors],\n",
    "    [samples.fireworks, samples.fireworks_colors]\n",
    "]\n"
   ]
  },
  {
   "cell_type": "code",
   "execution_count": null,
   "id": "a4295763-b095-4268-911f-cd8e79c4997a",
   "metadata": {},
   "outputs": [],
   "source": [
    "key = random.PRNGKey(0)\n",
    "num_time_steps = 100\n",
    "\n",
    "width = 1\n",
    "height = width\n",
    "\n",
    "\n",
    "subkey, key = random.split(key)\n",
    "\n",
    "E, colors = problems[problem_index]\n",
    "num_points = E.shape[0]\n",
    "\n",
    "V = random.normal(subkey, [num_points, 2])\n",
    "V = 0.5 *V / (jnp.linalg.norm(V, axis=-1, keepdims=True) + 1e-17)\n",
    "\n",
    "edge_list = jnp.array(utils.adjacency_matrix_to_list(E))"
   ]
  },
  {
   "cell_type": "code",
   "execution_count": null,
   "id": "b3874518-415a-4d33-8bc4-991f463037ea",
   "metadata": {},
   "outputs": [],
   "source": [
    "def plot(V, edge_list, title=\"\", colors=None):\n",
    "    lc = LineCollection(V[edge_list])\n",
    "    fig = plt.figure(figsize=(8,8), dpi=200)\n",
    "    f = 1.1\n",
    "    plt.xlim(-width*f, width*f)\n",
    "    plt.ylim(-height*f, height*f)\n",
    "    \n",
    "    \n",
    "    plt.title(title)\n",
    "    plt.gca().add_collection(lc)\n",
    "    plt.scatter(V[:,0], V[:,1], c=colors, zorder=1000)\n",
    "    \n",
    "    plt.show(fig)"
   ]
  },
  {
   "cell_type": "code",
   "execution_count": null,
   "id": "77698d9f-5b95-409f-bbeb-a8162a679f38",
   "metadata": {},
   "outputs": [],
   "source": [
    "plot(V, edge_list, colors=colors)"
   ]
  },
  {
   "cell_type": "code",
   "execution_count": null,
   "id": "9978f268-dc73-449b-a0fa-956eeed547d5",
   "metadata": {},
   "outputs": [],
   "source": [
    "cooling_fn_lin = partial(cooling_schedules.linear, start_temperature=3*width/num_time_steps, end_temperature=0.0)"
   ]
  },
  {
   "cell_type": "code",
   "execution_count": null,
   "id": "f58ced64-bb57-4690-9f2b-4fe034abce35",
   "metadata": {},
   "outputs": [],
   "source": [
    "def callback(V, E, time_step):\n",
    "    clear_output(wait=True)\n",
    "    plot(V, edge_list,f\"time={time_step}\", colors)\n",
    "    if time_step == 0:\n",
    "        time.sleep(10)\n",
    "    time.sleep(0.000_001)"
   ]
  },
  {
   "cell_type": "code",
   "execution_count": null,
   "id": "6431a207-8479-4d7a-971f-fd7fb73ad847",
   "metadata": {},
   "outputs": [],
   "source": [
    "new_V = frutcherman_reingold.apply_frutcherman_reingold(key, V, E, width, height, num_time_steps, cooling_fn_lin, callback)"
   ]
  },
  {
   "cell_type": "code",
   "execution_count": null,
   "id": "57babcd8-11ab-4229-b6a3-91672c9cce22",
   "metadata": {},
   "outputs": [],
   "source": []
  }
 ],
 "metadata": {
  "kernelspec": {
   "display_name": "Python 3 (ipykernel)",
   "language": "python",
   "name": "python3"
  },
  "language_info": {
   "codemirror_mode": {
    "name": "ipython",
    "version": 3
   },
   "file_extension": ".py",
   "mimetype": "text/x-python",
   "name": "python",
   "nbconvert_exporter": "python",
   "pygments_lexer": "ipython3",
   "version": "3.11.5"
  }
 },
 "nbformat": 4,
 "nbformat_minor": 5
}
